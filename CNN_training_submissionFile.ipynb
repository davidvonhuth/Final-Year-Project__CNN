{
  "nbformat": 4,
  "nbformat_minor": 0,
  "metadata": {
    "colab": {
      "name": "CNN_training_submissionFile.ipynb",
      "provenance": [],
      "collapsed_sections": [
        "gd6pTUSWYxKr",
        "gqOFAaNCHyhd",
        "6Fh5p8KqFTkr",
        "_17Uf3LlPCVf",
        "596lMENYOi4v",
        "NWAKtM_y5MBb",
        "yMr-r_J_4MDO",
        "nKWyKjKq348I",
        "kXa3n1Pj0pqv",
        "GtR8hKJEEIGk",
        "1o09-uussyW8",
        "H2DJ2rXEtFqE",
        "FZfIFuvXFhhz",
        "1pc_7ZoVNaVW",
        "-paXbx7rRClj",
        "ygRuDbbZ60BZ",
        "LAB0PJ6gfK7N"
      ]
    },
    "kernelspec": {
      "display_name": "Python 3",
      "name": "python3"
    }
  },
  "cells": [
    {
      "cell_type": "markdown",
      "metadata": {
        "id": "gd6pTUSWYxKr"
      },
      "source": [
        "### Importing libraries\n"
      ]
    },
    {
      "cell_type": "code",
      "metadata": {
        "id": "Ef95urgkX5kl"
      },
      "source": [
        "import tensorflow as tf\n",
        "from tensorflow import keras\n",
        "from tensorflow.keras import layers, activations\n",
        "import numpy as np\n",
        "import pickle\n",
        "from numpy import mean\n",
        "from numpy import std\n",
        "from sklearn.datasets import make_multilabel_classification\n",
        "from sklearn.model_selection import RepeatedKFold, KFold, train_test_split \n",
        "from sklearn.metrics import f1_score, precision_score, accuracy_score, recall_score, classification_report, roc_auc_score, confusion_matrix, auc, roc_curve, precision_recall_curve\n",
        "from sklearn.utils import compute_sample_weight, resample, shuffle\n",
        "from keras.models import Sequential, load_model\n",
        "from keras.layers import Dense, Flatten, Dropout, BatchNormalization\n",
        "from keras.layers.convolutional import Conv1D\n",
        "from keras.layers.convolutional import MaxPooling1D\n",
        "from keras.utils import to_categorical\n",
        "from scipy import stats\n",
        "import matplotlib.pyplot as plt\n",
        "from matplotlib.pyplot import figure\n",
        "import seaborn as sns\n",
        "import random\n",
        "import copy\n",
        "import time\n",
        "from datetime import datetime"
      ],
      "execution_count": 4,
      "outputs": []
    },
    {
      "cell_type": "code",
      "metadata": {
        "colab": {
          "base_uri": "https://localhost:8080/"
        },
        "id": "eu3OtW94nT14",
        "outputId": "9e29d503-3297-4f9f-81f1-a0b2552c41ea"
      },
      "source": [
        "from google.colab import drive\n",
        "drive.mount('/content/drive')"
      ],
      "execution_count": 2,
      "outputs": [
        {
          "output_type": "stream",
          "text": [
            "Mounted at /content/drive\n"
          ],
          "name": "stdout"
        }
      ]
    },
    {
      "cell_type": "markdown",
      "metadata": {
        "id": "gqOFAaNCHyhd"
      },
      "source": [
        "### Preparing the data"
      ]
    },
    {
      "cell_type": "code",
      "metadata": {
        "id": "SFnqFMchoTDg"
      },
      "source": [
        "with open('/content/drive/My Drive/Queen Mary University/3rd year/Final Year Project/pre3_2-sec_0.5_EEG_data.pickle', 'rb') as f:\n",
        "  X = pickle.load(f) #Signals\n",
        "  y = pickle.load(f) #annotations"
      ],
      "execution_count": 5,
      "outputs": []
    },
    {
      "cell_type": "code",
      "metadata": {
        "id": "abvr7kjyf6XU"
      },
      "source": [
        "#Normalize data\n",
        "X = stats.zscore(X, axis=None)"
      ],
      "execution_count": 6,
      "outputs": []
    },
    {
      "cell_type": "code",
      "metadata": {
        "colab": {
          "base_uri": "https://localhost:8080/"
        },
        "id": "C1gXO4YyG77B",
        "outputId": "af548a54-3f41-4a9d-8632-68b3bea85f97"
      },
      "source": [
        "#Data shapes\n",
        "print('Shape of signal data: ',X.shape)\n",
        "print(X[0:3])\n",
        "print('Shape of label data: ',y.shape)\n",
        "print(y[0:3])"
      ],
      "execution_count": 7,
      "outputs": [
        {
          "output_type": "stream",
          "text": [
            "Shape of signal data:  (563163, 512)\n",
            "[[ 0.21940254  0.11464756  0.1150003  ... -0.27896224 -0.18255697\n",
            "  -0.09999134]\n",
            " [-0.14565016 -0.1302213  -0.17525955 ... -0.28014189 -0.18335632\n",
            "  -0.06391921]\n",
            " [-0.21955583 -0.33878428 -0.24957115 ... -0.03983156 -0.11408696\n",
            "  -0.07703492]]\n",
            "Shape of label data:  (563163, 3)\n",
            "[[1. 0. 0.]\n",
            " [1. 0. 0.]\n",
            " [1. 0. 0.]]\n"
          ],
          "name": "stdout"
        }
      ]
    },
    {
      "cell_type": "markdown",
      "metadata": {
        "id": "6Fh5p8KqFTkr"
      },
      "source": [
        "### Auxiliary functions"
      ]
    },
    {
      "cell_type": "markdown",
      "metadata": {
        "id": "_17Uf3LlPCVf"
      },
      "source": [
        "#### Class count function"
      ]
    },
    {
      "cell_type": "code",
      "metadata": {
        "id": "6CW27hCfI6d1"
      },
      "source": [
        "def getCount(y_dataset):\n",
        "  o_count = sum((y_dataset == (1., 0., 0.)).all(axis=1))\n",
        "  ss_count = sum((y_dataset == (0., 1., 0.)).all(axis=1))\n",
        "  kc_count = sum((y_dataset == (0., 0., 1.)).all(axis=1))\n",
        "  both_count = sum((y_dataset == (0., 1., 1.)).all(axis=1))\n",
        "  no_class = sum((y_dataset == (0., 0., 0.)).all(axis=1))\n",
        "  other_and_ss = sum((y_dataset == (1., 1., 0.)).all(axis=1))\n",
        "  other_and_kc = sum((y_dataset == (1., 0., 1.)).all(axis=1))\n",
        "  all_classes = sum((y_dataset == (1., 1., 1.)).all(axis=1))\n",
        "\n",
        "  print('Other count: ', o_count)\n",
        "  print('SS count: ', ss_count)\n",
        "  print('KC count: ', kc_count)\n",
        "  print('Both count: ', both_count)\n",
        "  print('No classes: ', no_class)\n",
        "  print('Other and SS: ', other_and_ss)\n",
        "  print('Other and KC: ', other_and_kc)\n",
        "  print('All classes: ', all_classes)"
      ],
      "execution_count": 8,
      "outputs": []
    },
    {
      "cell_type": "markdown",
      "metadata": {
        "id": "596lMENYOi4v"
      },
      "source": [
        "#### Resampler function"
      ]
    },
    {
      "cell_type": "code",
      "metadata": {
        "id": "Gk8STqAniGyb"
      },
      "source": [
        "def resampler(X, y, us_percent, ds_percent):\n",
        "\n",
        "  #Extracting minority classes\n",
        "  idx_ss = np.where((y == (0., 1., 0.)).all(axis=1))[0]\n",
        "  idx_kc = np.where((y == (0., 0., 1.)).all(axis=1))[0]\n",
        "  idx_both = np.where((y == (0., 1., 1.)).all(axis=1))[0]\n",
        "\n",
        "  ss_X, ss_y = X[idx_ss], y[idx_ss]\n",
        "  kc_X, kc_y = X[idx_kc], y[idx_kc]\n",
        "  both_X, both_y = X[idx_both], y[idx_both]\n",
        "\n",
        "  #Upsampling minority classes\n",
        "  nr_samples_ss = int(us_percent*ss_X.shape[0])\n",
        "  nr_samples_kc = int(us_percent*kc_X.shape[0])\n",
        "  nr_samples_both = int(us_percent*both_X.shape[0])\n",
        "\n",
        "  us_ss_X, us_ss_y  = resample(ss_X, ss_y, replace=True, n_samples=nr_samples_ss, random_state=2021)\n",
        "  us_kc_X, us_kc_y = resample(kc_X, kc_y, replace=True, n_samples=nr_samples_kc, random_state=2021)\n",
        "  us_both_X, us_both_y = resample(both_X, both_y, replace=True, n_samples=nr_samples_both, random_state=2021)\n",
        "\n",
        "  #Extracting majority class\n",
        "  idx_majClass = np.where((y == (1., 0., 0.)).all(axis=1))[0]\n",
        "  majClass_X = X[idx_majClass]\n",
        "  majClass_y = y[idx_majClass]\n",
        "\n",
        "\n",
        "  #Downsample majority class\n",
        "  nr_samples_maj = int(ds_percent*(nr_samples_ss+nr_samples_kc+nr_samples_both))\n",
        "  ds_X, ds_y = resample(majClass_X, majClass_y, replace=False, n_samples=nr_samples_maj, random_state=2021)\n",
        "\n",
        "  #Concatenating back again\n",
        "  args_X = (us_ss_X, ds_X, us_kc_X, us_both_X)\n",
        "  args_y = (us_ss_y, ds_y, us_kc_y, us_both_y)\n",
        "\n",
        "  X = np.concatenate(args_X, axis=0)\n",
        "  y = np.concatenate(args_y, axis=0)\n",
        "\n",
        "  #Shuffle for random order, but with a state so signals still correspond to their labels. \n",
        "  #This will also prevent the \"validation_split\"-parameter in the Keras fit function from choosing a homogenous validation set (it chooses the last x percent by default)\n",
        "  \n",
        "  seed = random.randint(0,3000)\n",
        "  # rand_state = 2021\n",
        "  X, y = shuffle(X, y, random_state=seed)\n",
        "  \n",
        "  return X, y, nr_samples_maj, nr_samples_ss, nr_samples_kc, nr_samples_both\n"
      ],
      "execution_count": 9,
      "outputs": []
    },
    {
      "cell_type": "markdown",
      "metadata": {
        "id": "NWAKtM_y5MBb"
      },
      "source": [
        "#### Class threshold functions"
      ]
    },
    {
      "cell_type": "markdown",
      "metadata": {
        "id": "yMr-r_J_4MDO"
      },
      "source": [
        "##### Threshold rounder function"
      ]
    },
    {
      "cell_type": "code",
      "metadata": {
        "id": "o3oxXaDz6skq"
      },
      "source": [
        "def th_rounder(y_pred, ths):\n",
        "\n",
        "  for i in range(len(ths)): #The \"other\" th needs to be sent as param [0] in ths\n",
        "    above_idx = np.where(y_pred[:,i+1] >= ths[i])[0]\n",
        "    below_idx = np.where(y_pred[:,i+1] < ths[i])[0]\n",
        "    y_pred[above_idx,i+1] = 1.0\n",
        "    y_pred[below_idx,i+1] = 0.0\n",
        "  \n",
        "  above_idx_oth = np.where((y_pred[:,1] == 0.0) & (y_pred[:,2] == 0.0))[0]\n",
        "  y_pred[above_idx_oth,0] = 1.0\n",
        "  below_idx_oth = np.where(y_pred[:,0] != 1.0)[0]\n",
        "  y_pred[below_idx_oth,0] = 0.0\n",
        "\n",
        "  return y_pred"
      ],
      "execution_count": 10,
      "outputs": []
    },
    {
      "cell_type": "markdown",
      "metadata": {
        "id": "nKWyKjKq348I"
      },
      "source": [
        "##### Threshold vs (count/f1/precision/recall) plots"
      ]
    },
    {
      "cell_type": "code",
      "metadata": {
        "id": "tsoWt5-733z0"
      },
      "source": [
        "def printThresholdPlot(c_pred, c_act, f1_score, pre_score, re_score, ths, classType):\n",
        "\n",
        "  print(classType)\n",
        "  plt.style.use('seaborn-dark')\n",
        "  fig,ax = plt.subplots(figsize=(10, 6), dpi=80, facecolor='w', edgecolor='pink')\n",
        "  ax.set_title('Rounding threshold vs segment count/performance scores', fontsize=20)\n",
        "  ax.set_xlabel(\"Thresholds\",fontsize=15)\n",
        "  ax.set_ylabel(\"Segment Count\",fontsize=15)\n",
        "  p1, = ax.plot(ths, c_pred, color=\"navy\", label='Predicted count')\n",
        "  p2, = ax.plot(ths, c_act , color=\"orange\", label='True count')\n",
        "\n",
        "  ax2=ax.twinx()\n",
        "  p3, = ax2.plot(ths, f1_score, color=\"maroon\", label='F1-Score')\n",
        "  p4, = ax2.plot(ths, pre_score, color=\"green\", label='Precision')\n",
        "  p5, = ax2.plot(ths, re_score, color=\"violet\", label='Recall')\n",
        "  ax2.set_ylabel(\"F1-score, Precision, Recall\",fontsize=14)\n",
        "\n",
        "  legend = ax.legend(handles=[p1, p2, p3, p4, p5], bbox_to_anchor=(1.0, 1.0), loc='best', fontsize='large', frameon=True)\n",
        "  legend.get_frame().set_linewidth(2.0)\n",
        "  legend.get_frame().set_edgecolor(\"black\")\n",
        "  plt.show()\n",
        "\n",
        "  print('\\n' + classType + ' true count ----------> ',c_act[0])"
      ],
      "execution_count": 11,
      "outputs": []
    },
    {
      "cell_type": "markdown",
      "metadata": {
        "id": "kXa3n1Pj0pqv"
      },
      "source": [
        "#### Confusion Matrix functions"
      ]
    },
    {
      "cell_type": "code",
      "metadata": {
        "id": "hMmpfkIn0pMU"
      },
      "source": [
        "# Converting labelled data to single-label, so it can fit within the sklearn \"confusion_matrix\" function\n",
        "def getSingleLabel(y_dataset):\n",
        "\n",
        "  o_bool = (y_dataset == (1., 0., 0.)).all(axis=1)\n",
        "  ss_bool = (y_dataset == (0., 1., 0.)).all(axis=1)\n",
        "  kc_bool = (y_dataset == (0., 0., 1.)).all(axis=1)\n",
        "  both_bool = (y_dataset == (0., 1., 1.)).all(axis=1)\n",
        "\n",
        "  y_dataset[o_bool] = 0\n",
        "  y_dataset[ss_bool] = 1\n",
        "  y_dataset[kc_bool] = 2\n",
        "  y_dataset[both_bool] = 3\n",
        "\n",
        "  singleLabel_y = np.amax(y_dataset, axis=1)\n",
        "  return singleLabel_y"
      ],
      "execution_count": 12,
      "outputs": []
    },
    {
      "cell_type": "code",
      "metadata": {
        "id": "atZhwbF_94_5"
      },
      "source": [
        "# Printing a heatmap-version of the CNN confusion matrix\n",
        "def printConfusionMatrix(y_true, y_pred):\n",
        "  singleLabel_y_true = getSingleLabel(y_true)\n",
        "  singleLabel_y_pred = getSingleLabel(y_pred)\n",
        "\n",
        "  cf_matrix = confusion_matrix(singleLabel_y_true, singleLabel_y_pred)\n",
        "  labels = ['Other', 'SS', 'KC', 'Both']\n",
        "  plt.figure(figsize=(14,8))\n",
        "  sns.heatmap(cf_matrix, annot=True, xticklabels=labels, yticklabels=labels, fmt='d')\n",
        "  plt.title('Confusion matrix', fontsize=18)\n",
        "  plt.ylabel('Actual label', fontsize=14)\n",
        "  plt.xlabel('Predicted label', fontsize=14)\n",
        "  plt.show()"
      ],
      "execution_count": 13,
      "outputs": []
    },
    {
      "cell_type": "markdown",
      "metadata": {
        "id": "GtR8hKJEEIGk"
      },
      "source": [
        "#### PR and ROC plotting function"
      ]
    },
    {
      "cell_type": "code",
      "metadata": {
        "id": "CzWsOzmfEHFv"
      },
      "source": [
        "def printCurve(y_true, y_pred, x_label, y_label, title):\n",
        "  n_classes = 3\n",
        "  class_labels = ['Other', 'Sleep Spindle', 'K-Complex']\n",
        "  x = dict()\n",
        "  y = dict()\n",
        "  plt.figure(figsize=(14,8))\n",
        "  color = ['cornflowerblue', 'darkkhaki', 'mediumaquamarine']\n",
        "\n",
        "  for i in range(n_classes):\n",
        "    if title == 'Precision vs Recall Plot':\n",
        "      y[i], x[i], _ = precision_recall_curve(y_true[:, i], y_pred[:, i])\n",
        "      plt.plot(x[i], y[i], lw=3, label=class_labels[i], color=color[i])\n",
        "    else:\n",
        "      x[i], y[i], _ = roc_curve(y_true[:, i], y_pred[:, i])\n",
        "      plt.plot(x[i], y[i], lw=3, label=class_labels[i], color=color[i])\n",
        "\n",
        "  plt.xlabel(x_label, fontsize=14)\n",
        "  plt.ylabel(y_label, fontsize=14)\n",
        "  plt.legend(loc=\"best\", fontsize=14)\n",
        "  plt.title(title, fontsize=18)\n",
        "  plt.show()\n"
      ],
      "execution_count": 14,
      "outputs": []
    },
    {
      "cell_type": "markdown",
      "metadata": {
        "id": "1o09-uussyW8"
      },
      "source": [
        "#### PR-AUC plotting function"
      ]
    },
    {
      "cell_type": "code",
      "metadata": {
        "id": "GQ0fqGyWs2Rb"
      },
      "source": [
        "def printPR_AUC(y_Test, y_pred_r):\n",
        "  n_classes = 3\n",
        "  class_labels = ['Other', 'SS', 'KC']\n",
        "  colors = ['cornflowerblue', 'darkkhaki', 'mediumaquamarine']\n",
        "  x = dict()\n",
        "  y = dict()\n",
        "  auc_scores = []\n",
        "  print('Areas under Precision-Recall curve: \\n')\n",
        "\n",
        "  for i in range(n_classes):  \n",
        "    y[i], x[i], _ = precision_recall_curve(y_Test[:, i], y_pred_r[:, i])\n",
        "    auc_score = np.round(auc(x[i], y[i]),3)\n",
        "    auc_scores.append(auc_score)\n",
        "\n",
        "  x_pos = np.arange(len(class_labels))\n",
        "\n",
        "  plt.figure(figsize=(12,8))\n",
        "  for i in range(n_classes):\n",
        "    plt.bar(x_pos[i], auc_scores[i], align='center', color=colors[i], width=0.6)\n",
        "    \n",
        "  plt.xticks(x_pos, class_labels)\n",
        "  plt.title('Precision-Recall AUC', fontsize=18)\n",
        "  plt.ylabel('AUC score', fontsize=14)\n",
        "  plt.xlabel('Segment classes', fontsize=14)\n",
        "  \n",
        "  for x, y in enumerate(auc_scores):\n",
        "    plt.text(x-0.08, y+0.02, \" \"+str(y), color='black', va='center', fontweight='bold') \n",
        "\n",
        "  plt.show()  "
      ],
      "execution_count": 15,
      "outputs": []
    },
    {
      "cell_type": "markdown",
      "metadata": {
        "id": "H2DJ2rXEtFqE"
      },
      "source": [
        "#### Final scores (F1/Precision/Recall)"
      ]
    },
    {
      "cell_type": "code",
      "metadata": {
        "id": "5HxYqILmtF7u"
      },
      "source": [
        "def printFinalScores(y_Test, y_pred_r):\n",
        "  # calculate performance metrics\n",
        "  f1 = list(f1_score(y_Test, y_pred_r, average=None))\n",
        "  pre = list(precision_score(y_Test, y_pred_r, average=None))\n",
        "  re = list(recall_score(y_Test, y_pred_r, average=None))\n",
        "\n",
        "\n",
        "  #Plotting both F1 and Precision\n",
        "  classes = ['Other', 'SS', 'KC', 'Average']\n",
        "\n",
        "  avg_f1 = mean(f1) #Same as F1-Macro-average, taking the mean of the f1-scores\n",
        "  avg_pre = mean(pre) \n",
        "  avg_re = mean(re) \n",
        "\n",
        "  f1.append(avg_f1)\n",
        "  pre.append(avg_pre)\n",
        "  re.append(avg_re)\n",
        "\n",
        "  x = np.arange(len(classes))  # the label locations\n",
        "  width = 0.20  # the width of the bars\n",
        "\n",
        "  fig, ax = plt.subplots(figsize=(10, 6), dpi=80)\n",
        "  f1_bars = ax.bar(x - width, f1, width, label='F1', color='mediumslateblue')\n",
        "  pre_bars = ax.bar(x, pre, width, label='Precision', color='lightcyan')\n",
        "  re_bars = ax.bar(x + width, re, width, label='Recall', color='antiquewhite')\n",
        "\n",
        "  # Add some text for labels, title and custom x-axis tick labels, etc.\n",
        "  ax.set_ylabel('F1 / Precision / Recall', fontsize=12)\n",
        "  ax.set_xlabel('Classes and average score', fontsize=12)\n",
        "  ax.set_title('F1, Precision and Recall class scores', fontsize=14)\n",
        "  ax.set_xticks(x)\n",
        "  ax.set_xticklabels(classes)\n",
        "  ax.legend()\n",
        "\n",
        "  def label_bars(bars):\n",
        "    for bar in bars:\n",
        "        height = bar.get_height()\n",
        "        ax.annotate('{:.3f}'.format(height),\n",
        "                    xy=(bar.get_x() + bar.get_width() / 2, height),\n",
        "                    xytext=(0, 3),  # 3 points vertical offset\n",
        "                    textcoords=\"offset points\",\n",
        "                    ha='center', va='bottom')\n",
        "\n",
        "\n",
        "  label_bars(f1_bars)\n",
        "  label_bars(pre_bars)\n",
        "  label_bars(re_bars)\n",
        "  fig.tight_layout()\n",
        "  plt.show()  "
      ],
      "execution_count": 16,
      "outputs": []
    },
    {
      "cell_type": "markdown",
      "metadata": {
        "id": "FZfIFuvXFhhz"
      },
      "source": [
        "#### Header printer function"
      ]
    },
    {
      "cell_type": "code",
      "metadata": {
        "id": "GG-VZY_LYw99"
      },
      "source": [
        "def print_header(fold_nr, pool_windows, strides, us_percent, ds_percent, X_train, X_test, other, ss_c, kc_c, both_c, filters, k_size, val_split, b_size):\n",
        "  # print('Fold number -------------------------------------------------------------------------------------------->', fold_nr)\n",
        "  print('Validation split: ' + str(val_split))\n",
        "  print('Batch size: ' + str(b_size))\n",
        "  print('Kernel size: ' + str(k_size))\n",
        "  print('Pooling window sizes: ', pool_windows[:])\n",
        "  print('Number of strides: ', strides)\n",
        "  print('Number of filters: ', filters)\n",
        "  print('Upsample percentage: ', us_percent)\n",
        "  print('Downsample percentage: ', ds_percent)\n",
        "  print('Downsampled X_train: ', X_train.shape)\n",
        "  print('Test data shape: ', X_test.shape)\n",
        "  print('-------------------------------------------')\n",
        "  print('X_train \\'other\\' count: ', other)\n",
        "  print('X_train SS count: ', ss_c)\n",
        "  print('X_train KC count: ', kc_c)\n",
        "  print('X_train both count: ', both_c)"
      ],
      "execution_count": 17,
      "outputs": []
    },
    {
      "cell_type": "markdown",
      "metadata": {
        "id": "1pc_7ZoVNaVW"
      },
      "source": [
        "#### Model fetcher function"
      ]
    },
    {
      "cell_type": "code",
      "metadata": {
        "id": "M9rrF8fGf0pP"
      },
      "source": [
        "def get_model(n_timesteps, n_features, n_outputs, pool_windows, p_strides, filters, k_size, dropout, lr):\n",
        "  model = Sequential()\n",
        "\n",
        "  model.add(Conv1D(filters=filters[0], kernel_size=k_size, strides=1, input_shape=(n_timesteps, n_features)))\n",
        "  model.add(BatchNormalization())\n",
        "  model.add(layers.Activation(activations.relu))\n",
        "  model.add(Conv1D(filters=filters[0], kernel_size=k_size, strides=1))\n",
        "  model.add(BatchNormalization())\n",
        "  model.add(layers.Activation(activations.relu))\n",
        "  model.add(Conv1D(filters=filters[0], kernel_size=k_size, strides=1))\n",
        "  model.add(BatchNormalization())\n",
        "  model.add(layers.Activation(activations.relu))\n",
        "  model.add(Conv1D(filters=filters[0], kernel_size=k_size, strides=1))\n",
        "  model.add(BatchNormalization())\n",
        "  model.add(layers.Activation(activations.relu))\n",
        "  model.add(Conv1D(filters=filters[0], kernel_size=k_size, strides=1))\n",
        "  model.add(BatchNormalization())\n",
        "  model.add(layers.Activation(activations.relu))\n",
        "\n",
        "\n",
        "  model.add(MaxPooling1D(pool_size=pool_windows[2], strides=p_strides, padding='valid'))\n",
        "\n",
        "  model.add(Conv1D(filters=filters[0], kernel_size=k_size, strides=1))\n",
        "  model.add(BatchNormalization())\n",
        "  model.add(layers.Activation(activations.relu))\n",
        "  model.add(Conv1D(filters=filters[0], kernel_size=k_size, strides=1))\n",
        "  model.add(BatchNormalization())\n",
        "  model.add(layers.Activation(activations.relu))\n",
        "  model.add(Conv1D(filters=filters[0], kernel_size=k_size, strides=1))\n",
        "  model.add(BatchNormalization())\n",
        "  model.add(layers.Activation(activations.relu))\n",
        "  \n",
        "\n",
        "  model.add(MaxPooling1D(pool_size=pool_windows[2], strides=p_strides, padding='valid'))\n",
        "\n",
        "  model.add(Conv1D(filters=filters[1], kernel_size=k_size, strides=1))\n",
        "  model.add(BatchNormalization())\n",
        "  model.add(layers.Activation(activations.relu))\n",
        "  model.add(Conv1D(filters=filters[1], kernel_size=k_size, strides=1))\n",
        "  model.add(BatchNormalization())\n",
        "  model.add(layers.Activation(activations.relu))\n",
        "  model.add(Conv1D(filters=filters[1], kernel_size=k_size, strides=1))\n",
        "  model.add(BatchNormalization())\n",
        "  model.add(layers.Activation(activations.relu))\n",
        "\n",
        "\n",
        "  model.add(MaxPooling1D(pool_size=pool_windows[2], strides=p_strides, padding='valid'))\n",
        "\n",
        "  model.add(Conv1D(filters=filters[2], kernel_size=k_size, strides=1))\n",
        "  model.add(BatchNormalization())\n",
        "  model.add(layers.Activation(activations.relu))\n",
        "  model.add(Conv1D(filters=filters[2], kernel_size=k_size, strides=1))\n",
        "  model.add(BatchNormalization())\n",
        "  model.add(layers.Activation(activations.relu))\n",
        " \n",
        "\n",
        "  model.add(MaxPooling1D(pool_size=pool_windows[2], strides=p_strides, padding='valid'))\n",
        "  model.add(MaxPooling1D(pool_size=pool_windows[2], strides=p_strides, padding='valid'))\n",
        "  model.add(Conv1D(filters=filters[2], kernel_size=k_size, strides=1))\n",
        "  model.add(MaxPooling1D(pool_size=pool_windows[2], strides=p_strides, padding='valid')) \n",
        "  model.add(Conv1D(filters=filters[2], kernel_size=k_size, strides=1)) \n",
        "  model.add(BatchNormalization()) \n",
        "  model.add(layers.Activation(activations.relu))\n",
        "  model.add(Dropout(dropout))\n",
        "\n",
        " \n",
        "  model.add(Flatten())\n",
        "  model.add(Dense(100, activation='relu'))\n",
        "  model.add(BatchNormalization())\n",
        "  model.add(layers.Activation(activations.relu))\n",
        "  model.add(Dropout(dropout))\n",
        "  model.add(Dense(100, activation='relu'))\n",
        "  model.add(BatchNormalization())\n",
        "  model.add(layers.Activation(activations.relu))\n",
        "  model.add(Dropout(dropout))\n",
        "  model.add(Dense(n_outputs, activation='sigmoid'))\n",
        "\n",
        "  opt = keras.optimizers.Adam(learning_rate=lr)\n",
        "  model.compile(loss='binary_crossentropy', optimizer=opt, metrics=['accuracy'])\n",
        "  print(model.summary())\n",
        "  return model"
      ],
      "execution_count": 18,
      "outputs": []
    },
    {
      "cell_type": "markdown",
      "metadata": {
        "id": "59FglJVR3NcW"
      },
      "source": [
        "### CNN training"
      ]
    },
    {
      "cell_type": "markdown",
      "metadata": {
        "id": "-paXbx7rRClj"
      },
      "source": [
        "#### Main function"
      ]
    },
    {
      "cell_type": "code",
      "metadata": {
        "id": "vel3CkdZRHtn",
        "colab": {
          "base_uri": "https://localhost:8080/"
        },
        "outputId": "4ddc2fdd-95d5-41a4-c5cd-96c2ba3ebc33"
      },
      "source": [
        "start_time = time.time()\n",
        "\n",
        "#Splitting into Test/Train data\n",
        "X_Train, X_Test, y_Train, y_Test = train_test_split(X, y, test_size=0.20, shuffle=True)\n",
        "\n",
        "#Initializing variables\n",
        "kernel_sizes = [3] \n",
        "b_size = 256\n",
        "epochs = 3              #Use at least 20 epochs\n",
        "steps_p_epoch = 200\n",
        "us_percent = 1.0\n",
        "ds_percent = 2.0\n",
        "dropout = 0.1\n",
        "learning_rate = 0.001\n",
        "\n",
        "val_split = 0.2\n",
        "filters = [16,32,64,128,256]\n",
        "pool_windows = [4,3,2]\n",
        "strides = 2\n",
        "fold_nr = 'N/A'\n",
        "\n",
        "\n",
        "for i in range(len(kernel_sizes)):\n",
        "  print('######################################________________________Model nr '+str(i+1)+'__________________________#####################################\\n\\n')\n",
        "\n",
        "  #Downsampling\n",
        "  X_train, y_train, other, ss_c, kc_c, both_c = resampler(X_Train, y_Train, us_percent, ds_percent)\n",
        "\n",
        "  #Reshaping data to correct input format for the CNN\n",
        "  X_train = X_train.reshape(X_train.shape[0], X_train.shape[1], 1)\n",
        "  X_test = X_Test.reshape(X_Test.shape[0], X_Test.shape[1], 1)\n",
        "\n",
        "  #Printing header info\n",
        "  print_header(fold_nr, pool_windows, strides, us_percent, ds_percent, X_train, X_test, other, ss_c, kc_c, both_c, filters, kernel_sizes[i], val_split, b_size)\n",
        "  \n",
        "  #Fetching the model\n",
        "  n_timesteps, n_features, n_outputs = X_train.shape[1], X_train.shape[2], y_train.shape[1]\n",
        "  model = get_model(n_timesteps, n_features, n_outputs, pool_windows, strides, filters, kernel_sizes[i], dropout, learning_rate) \n",
        "  \n",
        "  #Callback ModelCheckpoint\n",
        "  model_filepath = '/content/drive/My Drive/FYP BACK-UP/best_weights/FINAL_TEST_epoch={epoch:02d}.hdf5'\n",
        "\n",
        "  model_checkpoint_callback = tf.keras.callbacks.ModelCheckpoint(\n",
        "    filepath=model_filepath,\n",
        "    monitor='val_loss',\n",
        "    mode='min',\n",
        "    verbose=1,\n",
        "    save_best_only=True,\n",
        "    save_weights_only=True) \n",
        "\n",
        "  #################################### Training the model #######################################\n",
        "  history = model.fit(X_train, y_train, validation_split=val_split, epochs=epochs, steps_per_epoch=steps_p_epoch, \n",
        "                      batch_size=b_size, shuffle=True, verbose=1, callbacks=[model_checkpoint_callback]) \n",
        "  \n",
        "print(\"\\n------------ %s minutes -----------\" % np.round((time.time() - start_time)/60,3))\n",
        "print(datetime.now())"
      ],
      "execution_count": 21,
      "outputs": [
        {
          "output_type": "stream",
          "text": [
            "######################################________________________Model nr 1__________________________#####################################\n",
            "\n",
            "\n",
            "Validation split: 0.2\n",
            "Batch size: 256\n",
            "Kernel size: 3\n",
            "Pooling window sizes:  [4, 3, 2]\n",
            "Number of strides:  2\n",
            "Number of filters:  [16, 32, 64, 128, 256]\n",
            "Upsample percentage:  1.0\n",
            "Downsample percentage:  2.0\n",
            "Downsampled X_train:  (98745, 512, 1)\n",
            "Test data shape:  (112633, 512, 1)\n",
            "-------------------------------------------\n",
            "X_train 'other' count:  65830\n",
            "X_train SS count:  15463\n",
            "X_train KC count:  15376\n",
            "X_train both count:  2076\n",
            "Model: \"sequential_2\"\n",
            "_________________________________________________________________\n",
            "Layer (type)                 Output Shape              Param #   \n",
            "=================================================================\n",
            "conv1d_30 (Conv1D)           (None, 510, 16)           64        \n",
            "_________________________________________________________________\n",
            "batch_normalization_29 (Batc (None, 510, 16)           64        \n",
            "_________________________________________________________________\n",
            "activation_29 (Activation)   (None, 510, 16)           0         \n",
            "_________________________________________________________________\n",
            "conv1d_31 (Conv1D)           (None, 508, 16)           784       \n",
            "_________________________________________________________________\n",
            "batch_normalization_30 (Batc (None, 508, 16)           64        \n",
            "_________________________________________________________________\n",
            "activation_30 (Activation)   (None, 508, 16)           0         \n",
            "_________________________________________________________________\n",
            "conv1d_32 (Conv1D)           (None, 506, 16)           784       \n",
            "_________________________________________________________________\n",
            "batch_normalization_31 (Batc (None, 506, 16)           64        \n",
            "_________________________________________________________________\n",
            "activation_31 (Activation)   (None, 506, 16)           0         \n",
            "_________________________________________________________________\n",
            "conv1d_33 (Conv1D)           (None, 504, 16)           784       \n",
            "_________________________________________________________________\n",
            "batch_normalization_32 (Batc (None, 504, 16)           64        \n",
            "_________________________________________________________________\n",
            "activation_32 (Activation)   (None, 504, 16)           0         \n",
            "_________________________________________________________________\n",
            "conv1d_34 (Conv1D)           (None, 502, 16)           784       \n",
            "_________________________________________________________________\n",
            "batch_normalization_33 (Batc (None, 502, 16)           64        \n",
            "_________________________________________________________________\n",
            "activation_33 (Activation)   (None, 502, 16)           0         \n",
            "_________________________________________________________________\n",
            "max_pooling1d_12 (MaxPooling (None, 251, 16)           0         \n",
            "_________________________________________________________________\n",
            "conv1d_35 (Conv1D)           (None, 249, 16)           784       \n",
            "_________________________________________________________________\n",
            "batch_normalization_34 (Batc (None, 249, 16)           64        \n",
            "_________________________________________________________________\n",
            "activation_34 (Activation)   (None, 249, 16)           0         \n",
            "_________________________________________________________________\n",
            "conv1d_36 (Conv1D)           (None, 247, 16)           784       \n",
            "_________________________________________________________________\n",
            "batch_normalization_35 (Batc (None, 247, 16)           64        \n",
            "_________________________________________________________________\n",
            "activation_35 (Activation)   (None, 247, 16)           0         \n",
            "_________________________________________________________________\n",
            "conv1d_37 (Conv1D)           (None, 245, 16)           784       \n",
            "_________________________________________________________________\n",
            "batch_normalization_36 (Batc (None, 245, 16)           64        \n",
            "_________________________________________________________________\n",
            "activation_36 (Activation)   (None, 245, 16)           0         \n",
            "_________________________________________________________________\n",
            "max_pooling1d_13 (MaxPooling (None, 122, 16)           0         \n",
            "_________________________________________________________________\n",
            "conv1d_38 (Conv1D)           (None, 120, 32)           1568      \n",
            "_________________________________________________________________\n",
            "batch_normalization_37 (Batc (None, 120, 32)           128       \n",
            "_________________________________________________________________\n",
            "activation_37 (Activation)   (None, 120, 32)           0         \n",
            "_________________________________________________________________\n",
            "conv1d_39 (Conv1D)           (None, 118, 32)           3104      \n",
            "_________________________________________________________________\n",
            "batch_normalization_38 (Batc (None, 118, 32)           128       \n",
            "_________________________________________________________________\n",
            "activation_38 (Activation)   (None, 118, 32)           0         \n",
            "_________________________________________________________________\n",
            "conv1d_40 (Conv1D)           (None, 116, 32)           3104      \n",
            "_________________________________________________________________\n",
            "batch_normalization_39 (Batc (None, 116, 32)           128       \n",
            "_________________________________________________________________\n",
            "activation_39 (Activation)   (None, 116, 32)           0         \n",
            "_________________________________________________________________\n",
            "max_pooling1d_14 (MaxPooling (None, 58, 32)            0         \n",
            "_________________________________________________________________\n",
            "conv1d_41 (Conv1D)           (None, 56, 64)            6208      \n",
            "_________________________________________________________________\n",
            "batch_normalization_40 (Batc (None, 56, 64)            256       \n",
            "_________________________________________________________________\n",
            "activation_40 (Activation)   (None, 56, 64)            0         \n",
            "_________________________________________________________________\n",
            "conv1d_42 (Conv1D)           (None, 54, 64)            12352     \n",
            "_________________________________________________________________\n",
            "batch_normalization_41 (Batc (None, 54, 64)            256       \n",
            "_________________________________________________________________\n",
            "activation_41 (Activation)   (None, 54, 64)            0         \n",
            "_________________________________________________________________\n",
            "max_pooling1d_15 (MaxPooling (None, 27, 64)            0         \n",
            "_________________________________________________________________\n",
            "max_pooling1d_16 (MaxPooling (None, 13, 64)            0         \n",
            "_________________________________________________________________\n",
            "conv1d_43 (Conv1D)           (None, 11, 64)            12352     \n",
            "_________________________________________________________________\n",
            "max_pooling1d_17 (MaxPooling (None, 5, 64)             0         \n",
            "_________________________________________________________________\n",
            "conv1d_44 (Conv1D)           (None, 3, 64)             12352     \n",
            "_________________________________________________________________\n",
            "batch_normalization_42 (Batc (None, 3, 64)             256       \n",
            "_________________________________________________________________\n",
            "activation_42 (Activation)   (None, 3, 64)             0         \n",
            "_________________________________________________________________\n",
            "dropout_3 (Dropout)          (None, 3, 64)             0         \n",
            "_________________________________________________________________\n",
            "flatten_1 (Flatten)          (None, 192)               0         \n",
            "_________________________________________________________________\n",
            "dense_3 (Dense)              (None, 100)               19300     \n",
            "_________________________________________________________________\n",
            "batch_normalization_43 (Batc (None, 100)               400       \n",
            "_________________________________________________________________\n",
            "activation_43 (Activation)   (None, 100)               0         \n",
            "_________________________________________________________________\n",
            "dropout_4 (Dropout)          (None, 100)               0         \n",
            "_________________________________________________________________\n",
            "dense_4 (Dense)              (None, 100)               10100     \n",
            "_________________________________________________________________\n",
            "batch_normalization_44 (Batc (None, 100)               400       \n",
            "_________________________________________________________________\n",
            "activation_44 (Activation)   (None, 100)               0         \n",
            "_________________________________________________________________\n",
            "dropout_5 (Dropout)          (None, 100)               0         \n",
            "_________________________________________________________________\n",
            "dense_5 (Dense)              (None, 3)                 303       \n",
            "=================================================================\n",
            "Total params: 88,759\n",
            "Trainable params: 87,527\n",
            "Non-trainable params: 1,232\n",
            "_________________________________________________________________\n",
            "None\n",
            "Epoch 1/3\n",
            "200/200 [==============================] - 173s 835ms/step - loss: 0.5965 - accuracy: 0.6173 - val_loss: 0.5096 - val_accuracy: 0.6688\n",
            "\n",
            "Epoch 00001: val_loss improved from inf to 0.50956, saving model to /content/drive/My Drive/FYP BACK-UP/best_weights/FINAL_TEST_epoch=01.hdf5\n",
            "Epoch 2/3\n",
            "200/200 [==============================] - 172s 863ms/step - loss: 0.4239 - accuracy: 0.7090 - val_loss: 0.4066 - val_accuracy: 0.7276\n",
            "\n",
            "Epoch 00002: val_loss improved from 0.50956 to 0.40658, saving model to /content/drive/My Drive/FYP BACK-UP/best_weights/FINAL_TEST_epoch=02.hdf5\n",
            "Epoch 3/3\n",
            "200/200 [==============================] - 167s 833ms/step - loss: 0.3944 - accuracy: 0.7349 - val_loss: 0.3939 - val_accuracy: 0.7336\n",
            "\n",
            "Epoch 00003: val_loss improved from 0.40658 to 0.39386, saving model to /content/drive/My Drive/FYP BACK-UP/best_weights/FINAL_TEST_epoch=03.hdf5\n",
            "\n",
            "------------ 8.602 minutes -----------\n",
            "2021-05-03 15:17:45.811874\n"
          ],
          "name": "stdout"
        }
      ]
    },
    {
      "cell_type": "markdown",
      "metadata": {
        "id": "w56u1Cmo3dv7"
      },
      "source": [
        "#### Train & validation loss curves"
      ]
    },
    {
      "cell_type": "code",
      "metadata": {
        "colab": {
          "base_uri": "https://localhost:8080/",
          "height": 557
        },
        "id": "-Og4CETxiXiZ",
        "outputId": "f0ff16af-5909-43d8-a45f-ea5a5a5960f1"
      },
      "source": [
        "#Train and Validation loss vs epoch plot\n",
        "print('Kernel size --> ',kernel_sizes[0])\n",
        "w_width = 2\n",
        "plt.figure(figsize=(14,8))\n",
        "\n",
        "val_loss_offset = np.arange(1, len(history.history['val_loss']) + 1)\n",
        "plt.plot(val_loss_offset, history.history['val_loss'], 'lime')\n",
        "loss_offset = np.arange(1, len(history.history['loss']) + 1)\n",
        "plt.plot(loss_offset, history.history['loss'], 'deepskyblue')\n",
        "\n",
        "# Validation moving average\n",
        "cumsum_vec = np.cumsum(np.insert(history.history['val_loss'], 0, 0)) \n",
        "ma_val = (cumsum_vec[w_width:] - cumsum_vec[:-w_width]) / w_width\n",
        "ma_offset_X = np.arange(w_width/2+0.5, len(ma_val) + w_width/2+0.5)\n",
        "plt.plot(ma_offset_X, ma_val, color='lightcoral')\n",
        "\n",
        "# # Training moving average\n",
        "# cumsum_vec = np.cumsum(np.insert(history.history['loss'], 0, 0)) \n",
        "# ma_train = (cumsum_vec[w_width:] - cumsum_vec[:-w_width]) / w_width\n",
        "# ma_offset_X = np.arange(w_width/2+0.5, len(ma_train) + w_width/2+0.5)\n",
        "# plt.plot(ma_offset_X, ma_train, 'red')\n",
        "\n",
        "\n",
        "plt.title('Model loss', fontsize=20)\n",
        "plt.ylabel('loss', fontsize=15)\n",
        "plt.xlabel('epoch', fontsize=15)\n",
        "plt.legend(['Validation', 'Training', 'Val - moving average'], loc='upper right', prop={'size': 15})\n",
        "plt.grid(True)\n",
        "\n",
        "plt.ylim(0.2, 0.5)\n",
        "# plt.xlim(0,420)\n",
        "plt.show()\n",
        "print(datetime.now())"
      ],
      "execution_count": 23,
      "outputs": [
        {
          "output_type": "stream",
          "text": [
            "Kernel size -->  3\n"
          ],
          "name": "stdout"
        },
        {
          "output_type": "display_data",
          "data": {
            "image/png": "[encoded data removed]",
            "text/plain": [
              "<Figure size 1008x576 with 1 Axes>"
            ]
          },
          "metadata": {
            "tags": [],
            "needs_background": "light"
          }
        },
        {
          "output_type": "stream",
          "text": [
            "2021-05-03 15:19:46.608624\n"
          ],
          "name": "stdout"
        }
      ]
    },
    {
      "cell_type": "markdown",
      "metadata": {
        "id": "Ny70z1zO2ypt"
      },
      "source": [
        "### Model Results"
      ]
    },
    {
      "cell_type": "markdown",
      "metadata": {
        "id": "ygRuDbbZ60BZ"
      },
      "source": [
        "#### Final scores bar chart, th-plot and confusion matrix"
      ]
    },
    {
      "cell_type": "code",
      "metadata": {
        "id": "aVuUCMt46sJY"
      },
      "source": [
        "start_time = time.time()\n",
        "\n",
        "# The code within the first set of hashtagged lines should be uncommented if no recent model has been run, \n",
        "# where you want a model from some weight files (stored via the \"ModelCheckpoint\" callback). \n",
        "# This may be useful when only the weights was stored from some model run, but the model\n",
        "# crashed or you didn't have enough time to check the score results.\n",
        "\n",
        "# The code within the second set of hashtagged lines should be uncommented if you want to compute the \n",
        "# best class-rounding threshold values and have them plotted\n",
        "\n",
        "###############################################################################################################_________uncomment_start_1\n",
        "# kernel_sizes = [4]\n",
        "# b_size = 256\n",
        "# epochs = 60\n",
        "# steps_p_epoch = 200\n",
        "# us_percent = 1.0\n",
        "# ds_percent = 2.0\n",
        "# dropout = 0.1\n",
        "# learning_rate = 0.001\n",
        "\n",
        "# val_split = 0.2\n",
        "# filters = [16,32,64,128,256]\n",
        "# pool_windows = [4,3,2]\n",
        "# strides = 2\n",
        "# fold_nr = 'N/A'\n",
        "\n",
        "# #Downsampling\n",
        "# X_train, y_train, other, ss_c, kc_c, both_c = resampler(X_Train, y_Train, us_percent, ds_percent)\n",
        "\n",
        "# #Reshaping data to correct input format for neural network\n",
        "# X_train = X_train.reshape(X_train.shape[0], X_train.shape[1], 1)\n",
        "# X_test = X_Test.reshape(X_Test.shape[0], X_Test.shape[1], 1)\n",
        "\n",
        "# #Printing header info\n",
        "# print_header(fold_nr, pool_windows, strides, us_percent, ds_percent, X_train, X_test, other, ss_c, kc_c, both_c, filters, kernel_sizes[0], val_split, b_size)\n",
        "\n",
        "# n_timesteps, n_features, n_outputs = X_train.shape[1], X_train.shape[2], y_train.shape[1]\n",
        "# model = get_model(n_timesteps, n_features, n_outputs, pool_windows, strides, filters, kernel_sizes[0], dropout, learning_rate) \n",
        "\n",
        "###############################################################################################################_________uncomment_stop_1\n",
        "\n",
        "\n",
        "epoch_list = ['01',\n",
        "              '02',\n",
        "              '03']\n",
        "\n",
        "best_f1 = []\n",
        "\n",
        "for e in epoch_list:\n",
        "\n",
        "  print('_______________________________________________________________________________________________________')\n",
        "  print('\\n Model results for epoch ----------------------->  ' + e + '\\n\\n')\n",
        "  model_filepath = '/content/drive/My Drive/FYP BACK-UP/best_weights/FINAL_TEST_epoch=' + e + '.hdf5'\n",
        "  # X_test = X_Test.reshape(X_Test.shape[0], X_Test.shape[1], 1) #Uncomment if loading weights without any model runn\n",
        "  # model = load_model(model_filepath)                           #Uncomment if storing a model, and not weights\n",
        "  model.load_weights(model_filepath)\n",
        "  y_pred = model.predict(X_test)\n",
        "\n",
        "  ###############################################################################################################_________uncomment_start_2\n",
        "  # #Automatic class threshold finding\n",
        "  # ss_dict = {}\n",
        "  # kc_dict = {}\n",
        "\n",
        "  # #-----------------------------------------\n",
        "  # c_pred_ss = []\n",
        "  # c_act_ss = []\n",
        "  # f1_score_ss = []\n",
        "  # pre_score_ss = []\n",
        "  # re_score_ss = []\n",
        "  # count_act_ss = sum((y_Test == (0., 1., 0.)).all(axis=1))\n",
        "  # # - - - - - - - - - - - - - - - - - - - - - - - - - - - - - - - -\n",
        "  # c_pred_kc = []\n",
        "  # c_act_kc = []\n",
        "  # f1_score_kc = []\n",
        "  # pre_score_kc = []\n",
        "  # re_score_kc = []\n",
        "  # count_act_kc = sum((y_Test == (0., 0., 1.)).all(axis=1))\n",
        "  # #-----------------------------------------\n",
        "\n",
        "  # thresholds = np.arange(0.1, 0.9, 0.01)\n",
        "  # for th in thresholds:\n",
        "  #   th = round(th,2)\n",
        "  #   # print('Calculating for th ----> ', th)\n",
        "\n",
        "  #   ths = np.array([th,th])\n",
        "  #   y_pred_r = th_rounder(copy.deepcopy(y_pred), ths)\n",
        "\n",
        "  #   count_pred_ss = sum((y_pred_r == (0., 1., 0.)).all(axis=1)) \n",
        "  #   c_pred_ss.append(count_pred_ss)                                 \n",
        "  #   c_act_ss.append(count_act_ss)\n",
        "\n",
        "  #   count_pred_kc = sum((y_pred_r == (0., 0., 1.)).all(axis=1)) \n",
        "  #   c_pred_kc.append(count_pred_kc)\n",
        "  #   c_act_kc.append(count_act_kc)\n",
        "\n",
        "  #   f1_arr = f1_score(y_Test, y_pred_r, average=None, zero_division=1)[1:]\n",
        "  #   pre_arr = precision_score(y_Test, y_pred_r, average=None, zero_division=1)[1:] #[0.45, 0.27]\n",
        "  #   re_arr = recall_score(y_Test, y_pred_r, average=None, zero_division=1)[1:]\n",
        "                                   \n",
        "  #   f1_score_ss.append(f1_arr[0])\n",
        "  #   pre_score_ss.append(pre_arr[0])\n",
        "  #   re_score_ss.append(re_arr[0])\n",
        "\n",
        "  #   f1_score_kc.append(f1_arr[1])\n",
        "  #   pre_score_kc.append(pre_arr[1])\n",
        "  #   re_score_kc.append(re_arr[1])\n",
        "\n",
        "  #   ss_diff = abs(pre_arr[0] - re_arr[0])\n",
        "  #   kc_diff = abs(pre_arr[1] - re_arr[1])\n",
        "  #   ss_dict[th] = ss_diff\n",
        "  #   kc_dict[th] = kc_diff\n",
        "\n",
        "  #   # print('th--> ', round(th,3), '   Pre SS--> ',round(pre_arr[0],3), '   Re SS--> ',round(re_arr[0],3),'   SS diff--> ',round(ss_diff,3),\n",
        "  #   #        '        Pre KC--> ',round(pre_arr[1],3), '   Re KC--> ',round(re_arr[1],3),'   KC diff--> ',round(kc_diff,3))\n",
        "\n",
        "  # #-----------------------------------------\n",
        "  # printThresholdPlot(c_pred_ss, c_act_ss, f1_score_ss, pre_score_ss, re_score_ss, thresholds, 'Sleep Spindle')\n",
        "  # printThresholdPlot(c_pred_kc, c_act_kc, f1_score_kc, pre_score_kc, re_score_kc, thresholds, 'K-Complex')\n",
        "  # #-----------------------------------------\n",
        "\n",
        "  # auc_score_ss = auc(re_score_ss, pre_score_ss)\n",
        "  # auc_score_kc = auc(re_score_kc, pre_score_kc)\n",
        "  # print('Sleep Spindle PR AUC -->', auc_score_ss)\n",
        "  # print('K-Complex PR AUC -->', auc_score_kc)\n",
        "\n",
        "  \n",
        "  # best_th_ss = min(ss_dict, key=ss_dict.get)\n",
        "  # best_th_kc = min(kc_dict, key=kc_dict.get)\n",
        "  # print('Best SS threshold --> ', best_th_ss)\n",
        "  # print('Best KC threshold --> ', best_th_kc)\n",
        "\n",
        "  # best_ths = [best_th_ss, best_th_kc]\n",
        "  ###############################################################################################################_________uncomment_stop_2\n",
        "\n",
        "  best_ths = [0.493, 0.439]\n",
        "  y_pred_r = th_rounder(copy.deepcopy(y_pred), best_ths)\n",
        "\n",
        "  # Prinntinng PR-curve & ROC-curve\n",
        "  printCurve(y_Test, y_pred, 'Recall', 'Precision', 'Precision vs Recall Plot')\n",
        "  printPR_AUC(y_Test, y_pred_r)\n",
        "  printCurve(y_Test, y_pred, 'False Positive Rate', 'True Positive Rate', 'ROC curve')\n",
        "\n",
        "  #Print confusion Matrix\n",
        "  printConfusionMatrix(copy.deepcopy(y_Test), copy.deepcopy(y_pred_r))\n",
        "\n",
        "  #Print final scores - F1, Precision, Recall\n",
        "  printFinalScores(y_Test, y_pred_r)\n",
        "\n",
        "  avg_f1 = f1_score(y_Test, y_pred_r, average='macro')\n",
        "  print(np.round(avg_f1,3))\n",
        "  best_f1.append(avg_f1)\n",
        "\n",
        "print(model_filepath)\n",
        "print('Best f1-score --> ', np.round(max(best_f1),3))\n",
        "print(datetime.now())\n",
        "print(\"\\n------------ %s minutes -----------\" % np.round((time.time() - start_time)/60,3))"
      ],
      "execution_count": null,
      "outputs": []
    },
    {
      "cell_type": "markdown",
      "metadata": {
        "id": "LAB0PJ6gfK7N"
      },
      "source": [
        "#### Prediction counts"
      ]
    },
    {
      "cell_type": "code",
      "metadata": {
        "colab": {
          "base_uri": "https://localhost:8080/"
        },
        "id": "H4Lnax1V-9_x",
        "outputId": "be3c74da-72a7-4b75-b3b7-b17df2963730"
      },
      "source": [
        "print('Predicted:') \n",
        "getCount(y_pred_r)\n",
        "print('\\nActuals:')\n",
        "getCount(y_Test)"
      ],
      "execution_count": 26,
      "outputs": [
        {
          "output_type": "stream",
          "text": [
            "Predicted:\n",
            "Other count:  111190\n",
            "SS count:  0\n",
            "KC count:  1443\n",
            "Both count:  0\n",
            "No classes:  0\n",
            "Other and SS:  0\n",
            "Other and KC:  0\n",
            "All classes:  0\n",
            "\n",
            "Actuals:\n",
            "Other count:  104488\n",
            "SS count:  3913\n",
            "KC count:  3695\n",
            "Both count:  537\n",
            "No classes:  0\n",
            "Other and SS:  0\n",
            "Other and KC:  0\n",
            "All classes:  0\n"
          ],
          "name": "stdout"
        }
      ]
    }
  ]
}